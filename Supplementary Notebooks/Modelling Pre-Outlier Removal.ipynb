{
 "cells": [
  {
   "cell_type": "markdown",
   "metadata": {},
   "source": [
    "# Pre-Outlier Removal Modelling\n",
    "\n",
    "This notebook includes all non-neural network models before outlier removal via IQR.\n",
    "\n",
    "Models included in this notebook:\n",
    "- Linear Regression\n",
    "- Random Forest Regressor"
   ]
  },
  {
   "cell_type": "code",
   "execution_count": 1,
   "metadata": {},
   "outputs": [],
   "source": [
    "# Fundamentals\n",
    "import numpy as np\n",
    "import seaborn as sns\n",
    "import pandas as pd\n",
    "\n",
    "# Plotting\n",
    "import matplotlib.pyplot as plt\n",
    "import plotly.express as px\n",
    "import plotly.graph_objects as go\n",
    "from plotly.subplots import make_subplots\n",
    "\n",
    "# Preprocessing\n",
    "from sklearn.preprocessing import OneHotEncoder\n",
    "from sklearn.feature_extraction.text import CountVectorizer\n",
    "from textblob import TextBlob\n",
    "from sklearn.preprocessing import MinMaxScaler\n",
    "from sklearn.preprocessing import StandardScaler\n",
    "from sklearn.decomposition import PCA\n",
    "\n",
    "# Machine Learning\n",
    "from sklearn.model_selection import RandomizedSearchCV\n",
    "from sklearn.linear_model import LinearRegression\n",
    "from sklearn.ensemble import RandomForestRegressor\n",
    "from sklearn.pipeline import Pipeline\n",
    "from sklearn.model_selection import cross_val_score"
   ]
  },
  {
   "cell_type": "markdown",
   "metadata": {},
   "source": [
    "**Load in Data**"
   ]
  },
  {
   "cell_type": "code",
   "execution_count": 2,
   "metadata": {},
   "outputs": [],
   "source": [
    "# Load in all datasets before outlier removal\n",
    "X_train = pd.read_csv('data/clean_X_train.csv')\n",
    "y_train = pd.read_csv('data/clean_y_train.csv')\n",
    "X_test = pd.read_csv('data/clean_X_test.csv')\n",
    "y_test = pd.read_csv('data/clean_y_test.csv')"
   ]
  },
  {
   "cell_type": "markdown",
   "metadata": {},
   "source": [
    "### Machine Learning Models"
   ]
  },
  {
   "cell_type": "markdown",
   "metadata": {},
   "source": [
    "#### Random Search CV"
   ]
  },
  {
   "cell_type": "code",
   "execution_count": 97,
   "metadata": {},
   "outputs": [],
   "source": [
    "# Create a random search cv for LinearRegression, RandomForestRegressor\n",
    "\n",
    "# Instantiate a pipe for the RandomSearchCV\n",
    "random_estimators = [('scaler', MinMaxScaler()), \n",
    "                     ('dimensionality_reduction', PCA()), \n",
    "                     ('model', LinearRegression())]\n",
    "\n",
    "random_pipe = Pipeline(random_estimators)\n",
    "\n",
    "# Set Random Search Parameters \n",
    "random_grid_LR = {'scaler': [StandardScaler(), MinMaxScaler(), None],\n",
    "                  'dimensionality_reduction__n_components': [20,40,60,80,100,120,140,160,180,200],\n",
    "                  'model': [LinearRegression()]}\n",
    "\n",
    "random_grid_RFR = {'scaler': [StandardScaler(), MinMaxScaler(), None],\n",
    "                   'dimensionality_reduction__n_components': [20,40,60,80,100,120,140,160,180,200],\n",
    "                   'model': [RandomForestRegressor(random_state=1)],\n",
    "                   'model__n_estimators': [20, 40, 60, 80, 100, 120, 140, 160, 180, 200],\n",
    "                   'model__max_depth': [5, 10, 15, 20, 25, 30, 35, 40, 45, 50]}\n",
    "\n",
    "random_grid = [random_grid_LR, random_grid_RFR]\n",
    "\n",
    "# Instantiate the Random Search CV\n",
    "randomsearch = RandomizedSearchCV(random_pipe, random_grid, cv=10)\n",
    "\n",
    "# Fit onto train data\n",
    "fitted_random_grid = randomsearch.fit(X_train, y_train)"
   ]
  },
  {
   "cell_type": "code",
   "execution_count": 98,
   "metadata": {},
   "outputs": [
    {
     "data": {
      "text/plain": [
       "Pipeline(steps=[('scaler', MinMaxScaler()),\n",
       "                ('dimensionality_reduction', PCA(n_components=120)),\n",
       "                ('model',\n",
       "                 RandomForestRegressor(max_depth=45, n_estimators=200,\n",
       "                                       random_state=1))])"
      ]
     },
     "execution_count": 98,
     "metadata": {},
     "output_type": "execute_result"
    }
   ],
   "source": [
    "# Check what the best model is\n",
    "fitted_random_grid.best_estimator_"
   ]
  },
  {
   "cell_type": "code",
   "execution_count": 101,
   "metadata": {},
   "outputs": [
    {
     "name": "stdout",
     "output_type": "stream",
     "text": [
      "0.8790752575416274\n",
      "-0.011333051508370051\n"
     ]
    }
   ],
   "source": [
    "# Get the R2 score from the best model\n",
    "print(fitted_random_grid.score(X_train, y_train))\n",
    "print(fitted_random_grid.score(X_test, y_test))"
   ]
  },
  {
   "cell_type": "code",
   "execution_count": 115,
   "metadata": {},
   "outputs": [
    {
     "data": {
      "text/plain": [
       "{'mean_fit_time': array([251.69844379, 161.03839884,  23.37127271, 172.51989448,\n",
       "         35.8491971 ,  13.58443317,  28.64922354,  71.04781899,\n",
       "         21.78846052,  39.75605907]),\n",
       " 'std_fit_time': array([5.08897853, 3.79610464, 0.59079676, 4.54995487, 0.70408275,\n",
       "        0.14171129, 0.26774481, 1.03676124, 0.35297519, 0.51026854]),\n",
       " 'mean_score_time': array([0.30796695, 0.22729537, 0.0229584 , 0.17744789, 0.02515392,\n",
       "        0.04664037, 0.10912929, 0.02784247, 0.02739525, 0.03729029]),\n",
       " 'std_score_time': array([0.22220502, 0.18100743, 0.00614706, 0.09237175, 0.00422878,\n",
       "        0.00531102, 0.07540545, 0.0042787 , 0.00333349, 0.0024383 ]),\n",
       " 'param_scaler': masked_array(data=[MinMaxScaler(), StandardScaler(), MinMaxScaler(),\n",
       "                    StandardScaler(), None, None, StandardScaler(),\n",
       "                    MinMaxScaler(), MinMaxScaler(), MinMaxScaler()],\n",
       "              mask=[False, False, False, False, False, False, False, False,\n",
       "                    False, False],\n",
       "        fill_value='?',\n",
       "             dtype=object),\n",
       " 'param_model__n_estimators': masked_array(data=[200, 140, 60, 180, 20, 80, 180, 60, 40, 80],\n",
       "              mask=[False, False, False, False, False, False, False, False,\n",
       "                    False, False],\n",
       "        fill_value='?',\n",
       "             dtype=object),\n",
       " 'param_model__max_depth': masked_array(data=[45, 25, 5, 20, 35, 35, 25, 15, 25, 20],\n",
       "              mask=[False, False, False, False, False, False, False, False,\n",
       "                    False, False],\n",
       "        fill_value='?',\n",
       "             dtype=object),\n",
       " 'param_model': masked_array(data=[RandomForestRegressor(max_depth=45, n_estimators=200, random_state=1),\n",
       "                    RandomForestRegressor(max_depth=45, n_estimators=200, random_state=1),\n",
       "                    RandomForestRegressor(max_depth=45, n_estimators=200, random_state=1),\n",
       "                    RandomForestRegressor(max_depth=45, n_estimators=200, random_state=1),\n",
       "                    RandomForestRegressor(max_depth=45, n_estimators=200, random_state=1),\n",
       "                    RandomForestRegressor(max_depth=45, n_estimators=200, random_state=1),\n",
       "                    RandomForestRegressor(max_depth=45, n_estimators=200, random_state=1),\n",
       "                    RandomForestRegressor(max_depth=45, n_estimators=200, random_state=1),\n",
       "                    RandomForestRegressor(max_depth=45, n_estimators=200, random_state=1),\n",
       "                    RandomForestRegressor(max_depth=45, n_estimators=200, random_state=1)],\n",
       "              mask=[False, False, False, False, False, False, False, False,\n",
       "                    False, False],\n",
       "        fill_value='?',\n",
       "             dtype=object),\n",
       " 'param_dimensionality_reduction__n_components': masked_array(data=[120, 140, 120, 120, 200, 20, 20, 160, 60, 60],\n",
       "              mask=[False, False, False, False, False, False, False, False,\n",
       "                    False, False],\n",
       "        fill_value='?',\n",
       "             dtype=object),\n",
       " 'params': [{'scaler': MinMaxScaler(),\n",
       "   'model__n_estimators': 200,\n",
       "   'model__max_depth': 45,\n",
       "   'model': RandomForestRegressor(max_depth=45, n_estimators=200, random_state=1),\n",
       "   'dimensionality_reduction__n_components': 120},\n",
       "  {'scaler': StandardScaler(),\n",
       "   'model__n_estimators': 140,\n",
       "   'model__max_depth': 25,\n",
       "   'model': RandomForestRegressor(max_depth=45, n_estimators=200, random_state=1),\n",
       "   'dimensionality_reduction__n_components': 140},\n",
       "  {'scaler': MinMaxScaler(),\n",
       "   'model__n_estimators': 60,\n",
       "   'model__max_depth': 5,\n",
       "   'model': RandomForestRegressor(max_depth=45, n_estimators=200, random_state=1),\n",
       "   'dimensionality_reduction__n_components': 120},\n",
       "  {'scaler': StandardScaler(),\n",
       "   'model__n_estimators': 180,\n",
       "   'model__max_depth': 20,\n",
       "   'model': RandomForestRegressor(max_depth=45, n_estimators=200, random_state=1),\n",
       "   'dimensionality_reduction__n_components': 120},\n",
       "  {'scaler': None,\n",
       "   'model__n_estimators': 20,\n",
       "   'model__max_depth': 35,\n",
       "   'model': RandomForestRegressor(max_depth=45, n_estimators=200, random_state=1),\n",
       "   'dimensionality_reduction__n_components': 200},\n",
       "  {'scaler': None,\n",
       "   'model__n_estimators': 80,\n",
       "   'model__max_depth': 35,\n",
       "   'model': RandomForestRegressor(max_depth=45, n_estimators=200, random_state=1),\n",
       "   'dimensionality_reduction__n_components': 20},\n",
       "  {'scaler': StandardScaler(),\n",
       "   'model__n_estimators': 180,\n",
       "   'model__max_depth': 25,\n",
       "   'model': RandomForestRegressor(max_depth=45, n_estimators=200, random_state=1),\n",
       "   'dimensionality_reduction__n_components': 20},\n",
       "  {'scaler': MinMaxScaler(),\n",
       "   'model__n_estimators': 60,\n",
       "   'model__max_depth': 15,\n",
       "   'model': RandomForestRegressor(max_depth=45, n_estimators=200, random_state=1),\n",
       "   'dimensionality_reduction__n_components': 160},\n",
       "  {'scaler': MinMaxScaler(),\n",
       "   'model__n_estimators': 40,\n",
       "   'model__max_depth': 25,\n",
       "   'model': RandomForestRegressor(max_depth=45, n_estimators=200, random_state=1),\n",
       "   'dimensionality_reduction__n_components': 60},\n",
       "  {'scaler': MinMaxScaler(),\n",
       "   'model__n_estimators': 80,\n",
       "   'model__max_depth': 20,\n",
       "   'model': RandomForestRegressor(max_depth=45, n_estimators=200, random_state=1),\n",
       "   'dimensionality_reduction__n_components': 60}],\n",
       " 'split0_test_score': array([ 0.09352199,  0.40687861, -0.25710117,  0.17182597, -0.38133364,\n",
       "        -0.57803547, -0.18537071, -0.08717266,  0.0904588 ,  0.12873306]),\n",
       " 'split1_test_score': array([ 0.06079157,  0.02948547,  0.01891146,  0.03399544,  0.08486954,\n",
       "        -0.01257809, -0.03534746,  0.06801932,  0.00844972,  0.02969382]),\n",
       " 'split2_test_score': array([-0.72738819,  0.36109765, -0.86504596,  0.42237541, -0.61303466,\n",
       "        -0.21203202,  0.30044484, -0.7900258 , -0.19262345, -0.16494232]),\n",
       " 'split3_test_score': array([0.07709945, 0.05604695, 0.02867165, 0.04533873, 0.06986231,\n",
       "        0.01106561, 0.06330519, 0.07532139, 0.04456496, 0.05288163]),\n",
       " 'split4_test_score': array([0.78859847, 0.09511938, 0.76926315, 0.10034394, 0.15702314,\n",
       "        0.03097145, 0.07320694, 0.69352312, 0.04038826, 0.02556689]),\n",
       " 'split5_test_score': array([ 0.33124719,  0.23084398,  0.14931161,  0.27537767, -3.61039723,\n",
       "         0.19240645,  0.29622587,  0.35089842,  0.10841455,  0.26517011]),\n",
       " 'split6_test_score': array([0.44663559, 0.0565105 , 0.35111225, 0.03590686, 0.16117012,\n",
       "        0.08059994, 0.05891751, 0.24162367, 0.10645157, 0.15047912]),\n",
       " 'split7_test_score': array([-0.45079449,  0.01714194, -0.98326041, -0.94044908, -2.660903  ,\n",
       "        -0.36020682,  0.05741911, -0.51309447, -0.23920361, -0.27048141]),\n",
       " 'split8_test_score': array([ 0.31069743, -1.66959248,  0.10227701, -0.50243425, -2.55725909,\n",
       "        -0.70060745, -0.98908357,  0.28918014,  0.13475523,  0.04074384]),\n",
       " 'split9_test_score': array([-0.11301332,  0.25541846, -0.86198002,  0.28688852, -0.17532292,\n",
       "        -0.2144371 ,  0.36969633, -0.31792705, -0.43764137, -0.26825815]),\n",
       " 'mean_test_score': array([ 8.17395675e-02, -1.61049535e-02, -1.54784043e-01, -7.08307943e-03,\n",
       "        -9.52532543e-01, -1.76285350e-01,  9.41406122e-04,  1.03460828e-03,\n",
       "        -3.35985351e-02, -1.04134089e-03]),\n",
       " 'std_test_score': array([0.41524481, 0.56709437, 0.55078262, 0.38948883, 1.348942  ,\n",
       "        0.27922336, 0.36670376, 0.41862678, 0.18101922, 0.16965878]),\n",
       " 'rank_test_score': array([ 1,  6,  8,  5, 10,  9,  3,  2,  7,  4], dtype=int32)}"
      ]
     },
     "execution_count": 115,
     "metadata": {},
     "output_type": "execute_result"
    }
   ],
   "source": [
    "# Take a look at the results\n",
    "fitted_random_grid.cv_results_"
   ]
  },
  {
   "cell_type": "markdown",
   "metadata": {},
   "source": [
    "**TODO:**\n",
    "- Explain the results from what I found\n",
    "    - Obviously overfit as the $R^2$ score for the train data is 0.88 while the test data is -0.01\n",
    "- I will continue on with Random Search CV for RandomForestRegressor again\n",
    "    - Use scores from above to fit best model\n",
    "    - Very unlikely that LinearRegression will be a good model, as my data includes text data"
   ]
  },
  {
   "cell_type": "code",
   "execution_count": 108,
   "metadata": {},
   "outputs": [
    {
     "name": "stdout",
     "output_type": "stream",
     "text": [
      "Fitting 10 folds for each of 10 candidates, totalling 100 fits\n"
     ]
    },
    {
     "name": "stderr",
     "output_type": "stream",
     "text": [
      "[Parallel(n_jobs=-1)]: Using backend LokyBackend with 8 concurrent workers.\n",
      "[Parallel(n_jobs=-1)]: Done  25 tasks      | elapsed: 13.1min\n",
      "[Parallel(n_jobs=-1)]: Done 100 out of 100 | elapsed: 44.7min finished\n"
     ]
    }
   ],
   "source": [
    "# Rerun random search for RandomForestRegressor after adjusting from previous random search\n",
    "\n",
    "grid_RFR = {'scaler': [MinMaxScaler()],\n",
    "            'dimensionality_reduction__n_components': [110, 115, 120, 125, 130],\n",
    "            'model': [RandomForestRegressor(random_state=1)],\n",
    "            'model__n_estimators': [200, 250, 300, 350, 400, 450, 500],\n",
    "            'model__max_depth': [2, 3, 4, 5, 6, 7, 8, 9, 10]}\n",
    "\n",
    "# Instantiate the grid search (reusing the random pipe will not affect the result)\n",
    "randomsearch_RFR = RandomizedSearchCV(random_pipe, grid_RFR, cv=10, n_jobs=-1, verbose=2)\n",
    "\n",
    "# Fit onto train data\n",
    "fitted_random_grid_RFR = randomsearch_RFR.fit(X_train, y_train)"
   ]
  },
  {
   "cell_type": "code",
   "execution_count": 109,
   "metadata": {},
   "outputs": [
    {
     "data": {
      "text/plain": [
       "Pipeline(steps=[('scaler', MinMaxScaler()),\n",
       "                ('dimensionality_reduction', PCA(n_components=120)),\n",
       "                ('model',\n",
       "                 RandomForestRegressor(max_depth=9, n_estimators=500,\n",
       "                                       random_state=1))])"
      ]
     },
     "execution_count": 109,
     "metadata": {},
     "output_type": "execute_result"
    }
   ],
   "source": [
    "# Check what the best model is\n",
    "fitted_random_grid_RFR.best_estimator_"
   ]
  },
  {
   "cell_type": "code",
   "execution_count": 111,
   "metadata": {},
   "outputs": [
    {
     "name": "stdout",
     "output_type": "stream",
     "text": [
      "0.7903203921332767\n",
      "-0.02500595291698615\n"
     ]
    }
   ],
   "source": [
    "# Get the R2 score from the best model\n",
    "print(fitted_random_grid_RFR.score(X_train, y_train))\n",
    "print(fitted_random_grid_RFR.score(X_test, y_test))"
   ]
  },
  {
   "cell_type": "code",
   "execution_count": 113,
   "metadata": {},
   "outputs": [
    {
     "data": {
      "text/plain": [
       "{'mean_fit_time': array([ 62.6493731 , 427.32113829, 148.23451424, 150.96221004,\n",
       "        251.28221581, 576.30477791, 195.30399938,  83.47124813,\n",
       "        105.46304569, 104.61672292]),\n",
       " 'std_fit_time': array([ 0.82993041,  3.59394316,  1.58450541,  1.66540141,  2.04006027,\n",
       "         4.95788374,  3.93584342,  0.32601199,  4.98032539, 19.60179866]),\n",
       " 'mean_score_time': array([0.06336133, 0.22010009, 0.06102817, 0.07811451, 0.08330061,\n",
       "        0.14530172, 0.08650036, 0.05071614, 0.12551825, 0.04800966]),\n",
       " 'std_score_time': array([0.01698976, 0.08905075, 0.00484485, 0.00648307, 0.0057737 ,\n",
       "        0.01400683, 0.00387725, 0.00216488, 0.03195366, 0.01411548]),\n",
       " 'param_scaler': masked_array(data=[MinMaxScaler(), MinMaxScaler(), MinMaxScaler(),\n",
       "                    MinMaxScaler(), MinMaxScaler(), MinMaxScaler(),\n",
       "                    MinMaxScaler(), MinMaxScaler(), MinMaxScaler(),\n",
       "                    MinMaxScaler()],\n",
       "              mask=[False, False, False, False, False, False, False, False,\n",
       "                    False, False],\n",
       "        fill_value='?',\n",
       "             dtype=object),\n",
       " 'param_model__n_estimators': masked_array(data=[200, 500, 200, 400, 300, 500, 450, 200, 350, 250],\n",
       "              mask=[False, False, False, False, False, False, False, False,\n",
       "                    False, False],\n",
       "        fill_value='?',\n",
       "             dtype=object),\n",
       " 'param_model__max_depth': masked_array(data=[2, 6, 6, 3, 6, 9, 3, 3, 2, 3],\n",
       "              mask=[False, False, False, False, False, False, False, False,\n",
       "                    False, False],\n",
       "        fill_value='?',\n",
       "             dtype=object),\n",
       " 'param_model': masked_array(data=[RandomForestRegressor(max_depth=9, n_estimators=500, random_state=1),\n",
       "                    RandomForestRegressor(max_depth=9, n_estimators=500, random_state=1),\n",
       "                    RandomForestRegressor(max_depth=9, n_estimators=500, random_state=1),\n",
       "                    RandomForestRegressor(max_depth=9, n_estimators=500, random_state=1),\n",
       "                    RandomForestRegressor(max_depth=9, n_estimators=500, random_state=1),\n",
       "                    RandomForestRegressor(max_depth=9, n_estimators=500, random_state=1),\n",
       "                    RandomForestRegressor(max_depth=9, n_estimators=500, random_state=1),\n",
       "                    RandomForestRegressor(max_depth=9, n_estimators=500, random_state=1),\n",
       "                    RandomForestRegressor(max_depth=9, n_estimators=500, random_state=1),\n",
       "                    RandomForestRegressor(max_depth=9, n_estimators=500, random_state=1)],\n",
       "              mask=[False, False, False, False, False, False, False, False,\n",
       "                    False, False],\n",
       "        fill_value='?',\n",
       "             dtype=object),\n",
       " 'param_dimensionality_reduction__n_components': masked_array(data=[130, 130, 110, 110, 125, 120, 125, 120, 115, 125],\n",
       "              mask=[False, False, False, False, False, False, False, False,\n",
       "                    False, False],\n",
       "        fill_value='?',\n",
       "             dtype=object),\n",
       " 'params': [{'scaler': MinMaxScaler(),\n",
       "   'model__n_estimators': 200,\n",
       "   'model__max_depth': 2,\n",
       "   'model': RandomForestRegressor(max_depth=9, n_estimators=500, random_state=1),\n",
       "   'dimensionality_reduction__n_components': 130},\n",
       "  {'scaler': MinMaxScaler(),\n",
       "   'model__n_estimators': 500,\n",
       "   'model__max_depth': 6,\n",
       "   'model': RandomForestRegressor(max_depth=9, n_estimators=500, random_state=1),\n",
       "   'dimensionality_reduction__n_components': 130},\n",
       "  {'scaler': MinMaxScaler(),\n",
       "   'model__n_estimators': 200,\n",
       "   'model__max_depth': 6,\n",
       "   'model': RandomForestRegressor(max_depth=9, n_estimators=500, random_state=1),\n",
       "   'dimensionality_reduction__n_components': 110},\n",
       "  {'scaler': MinMaxScaler(),\n",
       "   'model__n_estimators': 400,\n",
       "   'model__max_depth': 3,\n",
       "   'model': RandomForestRegressor(max_depth=9, n_estimators=500, random_state=1),\n",
       "   'dimensionality_reduction__n_components': 110},\n",
       "  {'scaler': MinMaxScaler(),\n",
       "   'model__n_estimators': 300,\n",
       "   'model__max_depth': 6,\n",
       "   'model': RandomForestRegressor(max_depth=9, n_estimators=500, random_state=1),\n",
       "   'dimensionality_reduction__n_components': 125},\n",
       "  {'scaler': MinMaxScaler(),\n",
       "   'model__n_estimators': 500,\n",
       "   'model__max_depth': 9,\n",
       "   'model': RandomForestRegressor(max_depth=9, n_estimators=500, random_state=1),\n",
       "   'dimensionality_reduction__n_components': 120},\n",
       "  {'scaler': MinMaxScaler(),\n",
       "   'model__n_estimators': 450,\n",
       "   'model__max_depth': 3,\n",
       "   'model': RandomForestRegressor(max_depth=9, n_estimators=500, random_state=1),\n",
       "   'dimensionality_reduction__n_components': 125},\n",
       "  {'scaler': MinMaxScaler(),\n",
       "   'model__n_estimators': 200,\n",
       "   'model__max_depth': 3,\n",
       "   'model': RandomForestRegressor(max_depth=9, n_estimators=500, random_state=1),\n",
       "   'dimensionality_reduction__n_components': 120},\n",
       "  {'scaler': MinMaxScaler(),\n",
       "   'model__n_estimators': 350,\n",
       "   'model__max_depth': 2,\n",
       "   'model': RandomForestRegressor(max_depth=9, n_estimators=500, random_state=1),\n",
       "   'dimensionality_reduction__n_components': 115},\n",
       "  {'scaler': MinMaxScaler(),\n",
       "   'model__n_estimators': 250,\n",
       "   'model__max_depth': 3,\n",
       "   'model': RandomForestRegressor(max_depth=9, n_estimators=500, random_state=1),\n",
       "   'dimensionality_reduction__n_components': 125}],\n",
       " 'split0_test_score': array([-0.24197053, -0.10721543, -0.12035928, -0.17975897, -0.25389057,\n",
       "        -0.01444887, -0.2156574 , -0.25129072, -0.11258636, -0.31884248]),\n",
       " 'split1_test_score': array([-0.01495678,  0.02426835,  0.02253045,  0.00673994,  0.02300306,\n",
       "         0.03866049,  0.00585749,  0.00597371, -0.01408558,  0.00635605]),\n",
       " 'split2_test_score': array([-1.3786983 , -1.22574723, -1.13099673, -1.09898904, -1.19278343,\n",
       "        -1.15646655, -1.18742263, -1.09068424, -1.25007342, -1.21051022]),\n",
       " 'split3_test_score': array([0.00682571, 0.03762966, 0.03635146, 0.01388288, 0.03661424,\n",
       "        0.05237662, 0.0139539 , 0.01360387, 0.006673  , 0.01312574]),\n",
       " 'split4_test_score': array([0.72131553, 0.75140698, 0.76261135, 0.76169453, 0.76421399,\n",
       "        0.76893039, 0.75732309, 0.75525971, 0.72143558, 0.74862451]),\n",
       " 'split5_test_score': array([0.01328859, 0.168864  , 0.16809227, 0.05594421, 0.17335026,\n",
       "        0.23630572, 0.05562471, 0.04990488, 0.01421795, 0.05590377]),\n",
       " 'split6_test_score': array([0.27176672, 0.3640405 , 0.40238996, 0.34726416, 0.35911319,\n",
       "        0.38822024, 0.34418161, 0.38122613, 0.28093652, 0.3267826 ]),\n",
       " 'split7_test_score': array([-1.02687827, -0.84600065, -0.71634771, -0.88186977, -0.72726187,\n",
       "        -0.48667703, -0.7459423 , -0.74463419, -1.00083324, -0.75741995]),\n",
       " 'split8_test_score': array([0.01111672, 0.00875362, 0.05455677, 0.04183766, 0.05284872,\n",
       "        0.17060602, 0.03680461, 0.02875595, 0.01660311, 0.03946059]),\n",
       " 'split9_test_score': array([-0.51633194, -0.47646172, -0.44254983, -0.60774637, -0.54960426,\n",
       "        -0.24582622, -0.52529741, -0.50145789, -0.63965471, -0.41659315]),\n",
       " 'mean_test_score': array([-0.21545225, -0.13004619, -0.09637213, -0.15410008, -0.13143967,\n",
       "        -0.02483192, -0.14605743, -0.13533428, -0.19773671, -0.15131125]),\n",
       " 'std_test_score': array([0.58403453, 0.54911736, 0.51829748, 0.5343745 , 0.53787563,\n",
       "        0.4959734 , 0.52651658, 0.5093932 , 0.56527001, 0.52510951]),\n",
       " 'rank_test_score': array([10,  3,  2,  8,  4,  1,  6,  5,  9,  7], dtype=int32)}"
      ]
     },
     "execution_count": 113,
     "metadata": {},
     "output_type": "execute_result"
    }
   ],
   "source": [
    "# Take a look at the results\n",
    "fitted_random_grid_RFR.cv_results_"
   ]
  },
  {
   "cell_type": "markdown",
   "metadata": {},
   "source": [
    "I can see that both of the results of the random searches choose the highest possible values tested for `max_depth` and `n_estimators` as the best model parameters, while the `n_components` for PCA stayed the same. In terms of the `max_depth`, a reduction from 45 to 9 dropped the $ R^2 $ train score by ~0.09, while insignificantly affecting the test score. Thus, I will need to manually tune the `max_depth` and `n_estimators` parameters to get the best `RandomForestRegressor` model using Cross Validation."
   ]
  },
  {
   "cell_type": "markdown",
   "metadata": {},
   "source": [
    "#### Cross Validation"
   ]
  },
  {
   "cell_type": "markdown",
   "metadata": {},
   "source": [
    "##### Random Forest Regressor"
   ]
  },
  {
   "cell_type": "code",
   "execution_count": 117,
   "metadata": {},
   "outputs": [
    {
     "name": "stdout",
     "output_type": "stream",
     "text": [
      "50\r"
     ]
    }
   ],
   "source": [
    "# Find the cross validation scores to find optimal max_depth\n",
    "# Create list for cross val scores and max_depths\n",
    "RFR_cross_val_scores = []\n",
    "max_depths = range(1, 51)\n",
    "\n",
    "# Use for loop on pipeline to get cross val scores\n",
    "for depth in max_depths:\n",
    "    RFR_estimators = [('normalise', MinMaxScaler()),\n",
    "                  ('reduce_dim', PCA(n_components=120)),\n",
    "                  ('RFR', RandomForestRegressor(max_depth=depth, random_state=1))]\n",
    "    RFR_pipe = Pipeline(RFR_estimators)\n",
    "    \n",
    "    # Get average cross validation score for each depth and append to the list of scores\n",
    "    cv_score = cross_val_score(RFR_pipe, X_train, y_train, cv=5, n_jobs=-1)\n",
    "    mean_cv_score = np.mean(cv_score)\n",
    "    \n",
    "    RFR_cross_val_scores.append(mean_cv_score)\n",
    "    \n",
    "    print(depth, end='\\r')"
   ]
  },
  {
   "cell_type": "code",
   "execution_count": 118,
   "metadata": {},
   "outputs": [
    {
     "data": {
      "image/png": "[encoded data removed]",
      "text/plain": [
       "<Figure size 432x288 with 1 Axes>"
      ]
     },
     "metadata": {
      "needs_background": "light"
     },
     "output_type": "display_data"
    }
   ],
   "source": [
    "# Take a look at the cross validation scores\n",
    "plt.figure()\n",
    "plt.plot(max_depths, RFR_cross_val_scores, label=\"Cross Validation Score\",marker='.')\n",
    "plt.legend()\n",
    "plt.xlabel('Depth')\n",
    "plt.ylabel('Cross Validation Score')\n",
    "plt.grid()\n",
    "plt.show()"
   ]
  },
  {
   "cell_type": "code",
   "execution_count": 125,
   "metadata": {},
   "outputs": [
    {
     "data": {
      "text/plain": [
       "-0.001333080414895882"
      ]
     },
     "execution_count": 125,
     "metadata": {},
     "output_type": "execute_result"
    }
   ],
   "source": [
    "# Get R2 score based on findings above\n",
    "RFR_estimators2 = [('normalise', MinMaxScaler()),\n",
    "                  ('reduce_dim', PCA(n_components=120)),\n",
    "                  ('RFR', RandomForestRegressor(max_depth=30,\n",
    "                                                random_state=1))]\n",
    "\n",
    "RFR_pipe2 = Pipeline(RFR_estimators2)\n",
    "RFR_pipe2.fit(X_train, y_train)\n",
    "RFR_pipe2.score(X_test, y_test)"
   ]
  },
  {
   "cell_type": "markdown",
   "metadata": {},
   "source": [
    "**TODO: Run again with the best max depth for n_estimators**\n",
    "\n",
    "Best max depth looks like 30, although I could have just as easily chosen 17 as the value is only marginally better, but is likely less overfit to the training data."
   ]
  },
  {
   "cell_type": "code",
   "execution_count": 120,
   "metadata": {},
   "outputs": [
    {
     "name": "stdout",
     "output_type": "stream",
     "text": [
      "481\r"
     ]
    }
   ],
   "source": [
    "# Find the cross validation scores to find optimal max_depth\n",
    "# Create list for cross val scores and n_estimators\n",
    "RFR_cross_val_scores1 = []\n",
    "num_estimators = range(1, 501, 20)\n",
    "\n",
    "# Use for loop on pipeline to get cross val scores\n",
    "for estimators in num_estimators:\n",
    "    RFR_estimators = [('normalise', MinMaxScaler()),\n",
    "                      ('reduce_dim', PCA(n_components=120)),\n",
    "                      ('RFR', RandomForestRegressor(max_depth=30, \n",
    "                                                    n_estimators=estimators,\n",
    "                                                    random_state=1))]\n",
    "    RFR_pipe = Pipeline(RFR_estimators)\n",
    "    \n",
    "    # Get average cross validation score for each depth and append to the list of scores\n",
    "    cv_score = cross_val_score(RFR_pipe, X_train, y_train, cv=5, n_jobs=-1)\n",
    "    mean_cv_score = np.mean(cv_score)\n",
    "    \n",
    "    RFR_cross_val_scores1.append(mean_cv_score)\n",
    "    \n",
    "    print(estimators, end='\\r')"
   ]
  },
  {
   "cell_type": "code",
   "execution_count": 122,
   "metadata": {},
   "outputs": [
    {
     "data": {
      "image/png": "[encoded data removed]",
      "text/plain": [
       "<Figure size 432x288 with 1 Axes>"
      ]
     },
     "metadata": {
      "needs_background": "light"
     },
     "output_type": "display_data"
    }
   ],
   "source": [
    "# Check for the optimal number of estimators\n",
    "plt.figure()\n",
    "plt.plot(num_estimators, RFR_cross_val_scores1, label=\"Cross Validation Score\",marker='.')\n",
    "plt.legend()\n",
    "plt.xlabel('Number of Estimators')\n",
    "plt.ylabel('Cross Validation Score')\n",
    "plt.grid()\n",
    "plt.show()"
   ]
  },
  {
   "cell_type": "code",
   "execution_count": 154,
   "metadata": {},
   "outputs": [
    {
     "data": {
      "text/plain": [
       "-0.0007380022998586533"
      ]
     },
     "execution_count": 154,
     "metadata": {},
     "output_type": "execute_result"
    }
   ],
   "source": [
    "# Use the hyperparameters found above as the \"best possible model\"\n",
    "RFR_estimators3 = [('normalise', MinMaxScaler()),\n",
    "                   ('reduce_dim', PCA(n_components=120)),\n",
    "                   ('RFR', RandomForestRegressor(max_depth=30, n_estimators=380, random_state=1))]\n",
    "\n",
    "RFR_pipe3 = Pipeline(RFR_estimators3)\n",
    "RFR_pipe3.fit(X_train, y_train)\n",
    "RFR_pipe3.score(X_test, y_test)"
   ]
  },
  {
   "cell_type": "markdown",
   "metadata": {},
   "source": [
    "I can see above that the optimal `n_estimators` is at ~380, although the default value of 100 generates a cross validation score that is only marginally less. However, just like the previous score after optimizing the `max_depth`, my test $R^2$ score remains at a poor value suggesting this model does not predict the listing price.\n",
    "\n",
    "As Random Forest Regression was not able to predict the test data very well, I will take a look at the other models that was used in the `RandomSearchCV` to compare to this `RandomForestRegressor`. Let's begin by taking a look at PCA to determine how many principal components is actually needed to explain the majority of the variance in my data."
   ]
  },
  {
   "cell_type": "markdown",
   "metadata": {},
   "source": [
    "#### PCA\n",
    "\n",
    "PCA is used to reduce the features of my model and control the noise in my data. My assumptions are that PCA will improve model performance across all of the models."
   ]
  },
  {
   "cell_type": "code",
   "execution_count": 155,
   "metadata": {},
   "outputs": [],
   "source": [
    "# Scale the data\n",
    "minmaxscaler = MinMaxScaler()\n",
    "minmaxscaler.fit(X_train)\n",
    "\n",
    "# Transform the X_train data\n",
    "scaled_X_train = minmaxscaler.transform(X_train)\n",
    "scaled_X_test = minmaxscaler.transform(X_test)"
   ]
  },
  {
   "cell_type": "code",
   "execution_count": 158,
   "metadata": {},
   "outputs": [],
   "source": [
    "# Fit a PCA model with train data\n",
    "pca = PCA(n_components=200)\n",
    "pca.fit(scaled_X_train)\n",
    "\n",
    "pca_X_train = pca.transform(scaled_X_train)\n",
    "pca_X_test = pca.transform(scaled_X_test)"
   ]
  },
  {
   "cell_type": "code",
   "execution_count": 152,
   "metadata": {},
   "outputs": [
    {
     "data": {
      "image/png": "[encoded data removed]",
      "text/plain": [
       "<Figure size 432x288 with 1 Axes>"
      ]
     },
     "metadata": {
      "needs_background": "light"
     },
     "output_type": "display_data"
    }
   ],
   "source": [
    "# Get the explained variance ratio and plot the data points\n",
    "pca_expl_var_ratio = pca.explained_variance_ratio_\n",
    "plt.figure()\n",
    "plt.plot(range(1,201), pca_expl_var_ratio, marker='.')\n",
    "plt.xlabel('Number of PCs')\n",
    "plt.ylabel('Proportion of Variance Explained')\n",
    "plt.xticks(range(1,201,1))\n",
    "plt.xlim(1, 20)\n",
    "plt.show()"
   ]
  },
  {
   "cell_type": "markdown",
   "metadata": {},
   "source": [
    "Looking at the plot above, I can see that 5 `n_components` are enough to explain > 97% of the varaiance in my data using the **elbow method**. Thus, I will take a look at the linear regression once again with and without dimension reduction.\n",
    "\n",
    "**Note:** I will continue the rest of the modelling using the scaled data as most of the features are encoded and I can keep all of the values in the same ranges."
   ]
  },
  {
   "cell_type": "markdown",
   "metadata": {},
   "source": [
    "#### Linear Regression\n",
    "\n",
    "I assume that this model will perform very poorly as the listing `price` is unlikely to be separated by a linear boundary (little to no visible correlation in the scatterplots from EDA section). Let's fit the model just to take a look."
   ]
  },
  {
   "cell_type": "code",
   "execution_count": 157,
   "metadata": {},
   "outputs": [
    {
     "name": "stdout",
     "output_type": "stream",
     "text": [
      "Score on the train set: 0.15864190610100948\n",
      "Score on the test set: -7.783900270873203e+16\n"
     ]
    }
   ],
   "source": [
    "# Fit linear regression model\n",
    "linear_reg = LinearRegression(n_jobs=-1)\n",
    "linear_reg.fit(scaled_X_train, y_train)\n",
    "\n",
    "# Score on the train and test data\n",
    "print(f'Score on the train set: {linear_reg.score(scaled_X_train, y_train)}')\n",
    "print(f'Score on the test set: {linear_reg.score(scaled_X_test, y_test)}')"
   ]
  },
  {
   "cell_type": "markdown",
   "metadata": {},
   "source": [
    "I can see that the model has performed extremely poorly as expected. Let's use the PCA transformed data and see if that changes the results."
   ]
  },
  {
   "cell_type": "code",
   "execution_count": 159,
   "metadata": {},
   "outputs": [
    {
     "name": "stdout",
     "output_type": "stream",
     "text": [
      "Score on the train set: 0.15672850597300347\n",
      "Score on the test set: 0.10313745259771101\n"
     ]
    }
   ],
   "source": [
    "# Fit linear regression model\n",
    "pca_linear_reg = LinearRegression(n_jobs=-1)\n",
    "pca_linear_reg.fit(pca_X_train, y_train)\n",
    "\n",
    "# Score on the train and test data\n",
    "print(f'Score on the train set: {pca_linear_reg.score(pca_X_train, y_train)}')\n",
    "print(f'Score on the test set: {pca_linear_reg.score(pca_X_test, y_test)}')"
   ]
  },
  {
   "cell_type": "markdown",
   "metadata": {},
   "source": [
    "Wow, a major difference can be seen in the results as the train score is now significantly closer to that of the train score. While these results are nothing to be excited about, this indicates that my data had a lot of noise which resulted in a poor $R^2$ test score."
   ]
  }
 ],
 "metadata": {
  "kernelspec": {
   "display_name": "Python 3",
   "language": "python",
   "name": "python3"
  },
  "language_info": {
   "codemirror_mode": {
    "name": "ipython",
    "version": 3
   },
   "file_extension": ".py",
   "mimetype": "text/x-python",
   "name": "python",
   "nbconvert_exporter": "python",
   "pygments_lexer": "ipython3",
   "version": "3.8.5"
  },
  "toc": {
   "base_numbering": 1,
   "nav_menu": {},
   "number_sections": true,
   "sideBar": true,
   "skip_h1_title": false,
   "title_cell": "Table of Contents",
   "title_sidebar": "Contents",
   "toc_cell": false,
   "toc_position": {},
   "toc_section_display": true,
   "toc_window_display": false
  }
 },
 "nbformat": 4,
 "nbformat_minor": 4
}
